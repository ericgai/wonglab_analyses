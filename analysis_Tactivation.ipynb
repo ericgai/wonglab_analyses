{
 "cells": [
  {
   "cell_type": "code",
   "execution_count": 1,
   "metadata": {},
   "outputs": [],
   "source": [
    "import pandas as pd\n",
    "import numpy as np\n",
    "import matplotlib.pyplot as plt\n",
    "import seaborn as sns\n",
    "from utils import read_stats, assign_channels, plot_kde\n",
    "import scipy\n",
    "from itertools import combinations, product\n",
    "from tqdm import tqdm\n",
    "plt.rcParams['figure.figsize'] = [10,10]"
   ]
  },
  {
   "cell_type": "code",
   "execution_count": 2,
   "metadata": {},
   "outputs": [],
   "source": [
    "channels={1:'CD11c',2:'Ki67',3:'Foxp3',4:'CD3',5:'PD1',6:'autofluorescence',7:'MHCII',8:'CD8a',9:'CD86',10:'CD4',11:'TCF1'}\n",
    "Tconv_lps1_df=assign_channels(read_stats('LPS1_Tconv_Statistics'),channels)\n",
    "Tconv_lps1_df['image']='LPS1'\n",
    "dc_lps1_df=assign_channels(read_stats('LPS1_DC_Statistics'),channels)\n",
    "dc_lps1_df['image']='LPS1'\n",
    "Tconv_pbs1_df=assign_channels(read_stats('PBS1_Tconv_Statistics'),channels)\n",
    "Tconv_pbs1_df['image']='PBS1'\n",
    "Tconv_lps2_df=assign_channels(read_stats('LPS2_Tconv_Statistics'),channels)\n",
    "Tconv_lps2_df['image']='LPS2'\n",
    "Tconv_pbs2_df=assign_channels(read_stats('PBS2_Tconv_Statistics'),channels)\n",
    "Tconv_pbs2_df['image']='PBS2'\n",
    "Tconv_dict={'LPS1':Tconv_lps1_df,'PBS1':Tconv_pbs1_df,'LPS2':Tconv_lps2_df,'PBS2':Tconv_pbs2_df}\n",
    "for condition in Tconv_dict.keys():\n",
    "    df=Tconv_dict[condition]\n",
    "    Tconv_dict[condition]=df[df['Intensity_Mean_Foxp3']<0.1]\n",
    "# Tconv_lps1_df=Tconv_lps1_df[Tconv_lps1_df['Intensity_Mean_Foxp3']<0.1]\n",
    "\n",
    "# Treg_df1=assign_channels(read_stats('T cell activation\\img69_Tregs_Statistics'),channels)\n",
    "# Treg_df1['image']=69\n",
    "# Tconv_df2=assign_channels(read_stats('T cell activation\\img136_Tconvs_Statistics'),channels)\n",
    "# Tconv_df2['image']=136\n",
    "# Treg_df2=assign_channels(read_stats('T cell activation\\img136_Tregs_Statistics'),channels)\n",
    "# Treg_df2['image']=136\n",
    "# Tconv_df3=assign_channels(read_stats('T cell activation\\img137_Tconvs_Statistics'),channels)\n",
    "# Tconv_df3['image']=137\n",
    "# Treg_df3=assign_channels(read_stats('T cell activation\\img137_Tregs_Statistics'),channels)\n",
    "# Treg_df3['image']=137"
   ]
  },
  {
   "cell_type": "code",
   "execution_count": 4,
   "metadata": {},
   "outputs": [
    {
     "name": "stderr",
     "output_type": "stream",
     "text": [
      "5425200it [02:04, 43430.03it/s]\n"
     ]
    }
   ],
   "source": [
    "n_T=len(Tconv_lps1_df)\n",
    "n_DC=len(dc_lps1_df)\n",
    "dist_container=np.zeros((n_T*n_DC,3))\n",
    "for i,(tc,dc) in tqdm(enumerate(product(Tconv_lps1_df.iterrows(),dc_lps1_df.iterrows()))):\n",
    "    dist_container[i,0]=tc[0]\n",
    "    dist_container[i,1]=dc[0]\n",
    "    dist_container[i,2]=sum([(tc[1][f'Position_{coord}']-dc[1][f'Position_{coord}'])**2 for coord in ['X','Y','Z']])\n",
    "tc_dc_lps1_pairs_df=pd.DataFrame(data=dist_container,columns=['tc_id','dc_id','distance_sq'])\n",
    "tc_dc_lps1_pairs_df=tc_dc_lps1_pairs_df[tc_dc_lps1_pairs_df['distance_sq']<10000]"
   ]
  },
  {
   "cell_type": "code",
   "execution_count": 15,
   "metadata": {},
   "outputs": [
    {
     "data": {
      "text/plain": [
       "6850"
      ]
     },
     "execution_count": 15,
     "metadata": {},
     "output_type": "execute_result"
    }
   ],
   "source": [
    "len(Tconv_lps1_df)"
   ]
  },
  {
   "cell_type": "code",
   "execution_count": 14,
   "metadata": {},
   "outputs": [
    {
     "data": {
      "text/plain": [
       "6532"
      ]
     },
     "execution_count": 14,
     "metadata": {},
     "output_type": "execute_result"
    }
   ],
   "source": [
    "len(np.unique(np.array(tc_dc_lps1_pairs_df[tc_dc_lps1_pairs_df['distance_sq']<900]['tc_id'],dtype=np.int32)))"
   ]
  },
  {
   "cell_type": "code",
   "execution_count": 5,
   "metadata": {},
   "outputs": [
    {
     "data": {
      "text/plain": [
       "(array([ 3978., 12444., 20120., 27985., 35105., 42467., 49498., 56093.,\n",
       "        62663., 68683.]),\n",
       " array([ 0.17166039, 10.15449234, 20.13732429, 30.12015623, 40.10298818,\n",
       "        50.08582013, 60.06865207, 70.05148402, 80.03431597, 90.01714791,\n",
       "        99.99997986]),\n",
       " <BarContainer object of 10 artists>)"
      ]
     },
     "execution_count": 5,
     "metadata": {},
     "output_type": "execute_result"
    },
    {
     "data": {
      "image/png": "[encoded data removed]",
      "text/plain": [
       "<Figure size 1000x1000 with 1 Axes>"
      ]
     },
     "metadata": {},
     "output_type": "display_data"
    }
   ],
   "source": [
    "plt.hist(np.sqrt(tc_dc_lps1_pairs_df['distance_sq']))"
   ]
  },
  {
   "cell_type": "code",
   "execution_count": 6,
   "metadata": {},
   "outputs": [
    {
     "data": {
      "text/html": [
       "<div>\n",
       "<style scoped>\n",
       "    .dataframe tbody tr th:only-of-type {\n",
       "        vertical-align: middle;\n",
       "    }\n",
       "\n",
       "    .dataframe tbody tr th {\n",
       "        vertical-align: top;\n",
       "    }\n",
       "\n",
       "    .dataframe thead th {\n",
       "        text-align: right;\n",
       "    }\n",
       "</style>\n",
       "<table border=\"1\" class=\"dataframe\">\n",
       "  <thead>\n",
       "    <tr style=\"text-align: right;\">\n",
       "      <th></th>\n",
       "      <th>tc_id</th>\n",
       "      <th>dc_id</th>\n",
       "      <th>distance_sq</th>\n",
       "    </tr>\n",
       "  </thead>\n",
       "  <tbody>\n",
       "    <tr>\n",
       "      <th>0</th>\n",
       "      <td>0.0</td>\n",
       "      <td>0.0</td>\n",
       "      <td>247.764133</td>\n",
       "    </tr>\n",
       "    <tr>\n",
       "      <th>1</th>\n",
       "      <td>0.0</td>\n",
       "      <td>1.0</td>\n",
       "      <td>609.444160</td>\n",
       "    </tr>\n",
       "    <tr>\n",
       "      <th>2</th>\n",
       "      <td>0.0</td>\n",
       "      <td>2.0</td>\n",
       "      <td>1407.875557</td>\n",
       "    </tr>\n",
       "    <tr>\n",
       "      <th>3</th>\n",
       "      <td>0.0</td>\n",
       "      <td>3.0</td>\n",
       "      <td>2150.579056</td>\n",
       "    </tr>\n",
       "    <tr>\n",
       "      <th>4</th>\n",
       "      <td>0.0</td>\n",
       "      <td>4.0</td>\n",
       "      <td>1509.098327</td>\n",
       "    </tr>\n",
       "    <tr>\n",
       "      <th>...</th>\n",
       "      <td>...</td>\n",
       "      <td>...</td>\n",
       "      <td>...</td>\n",
       "    </tr>\n",
       "    <tr>\n",
       "      <th>5425195</th>\n",
       "      <td>6849.0</td>\n",
       "      <td>787.0</td>\n",
       "      <td>7307.855967</td>\n",
       "    </tr>\n",
       "    <tr>\n",
       "      <th>5425196</th>\n",
       "      <td>6849.0</td>\n",
       "      <td>788.0</td>\n",
       "      <td>6984.566874</td>\n",
       "    </tr>\n",
       "    <tr>\n",
       "      <th>5425197</th>\n",
       "      <td>6849.0</td>\n",
       "      <td>789.0</td>\n",
       "      <td>3551.377224</td>\n",
       "    </tr>\n",
       "    <tr>\n",
       "      <th>5425198</th>\n",
       "      <td>6849.0</td>\n",
       "      <td>790.0</td>\n",
       "      <td>7.816252</td>\n",
       "    </tr>\n",
       "    <tr>\n",
       "      <th>5425199</th>\n",
       "      <td>6849.0</td>\n",
       "      <td>791.0</td>\n",
       "      <td>168.525104</td>\n",
       "    </tr>\n",
       "  </tbody>\n",
       "</table>\n",
       "<p>379036 rows × 3 columns</p>\n",
       "</div>"
      ],
      "text/plain": [
       "          tc_id  dc_id  distance_sq\n",
       "0           0.0    0.0   247.764133\n",
       "1           0.0    1.0   609.444160\n",
       "2           0.0    2.0  1407.875557\n",
       "3           0.0    3.0  2150.579056\n",
       "4           0.0    4.0  1509.098327\n",
       "...         ...    ...          ...\n",
       "5425195  6849.0  787.0  7307.855967\n",
       "5425196  6849.0  788.0  6984.566874\n",
       "5425197  6849.0  789.0  3551.377224\n",
       "5425198  6849.0  790.0     7.816252\n",
       "5425199  6849.0  791.0   168.525104\n",
       "\n",
       "[379036 rows x 3 columns]"
      ]
     },
     "execution_count": 6,
     "metadata": {},
     "output_type": "execute_result"
    }
   ],
   "source": [
    "tc_dc_lps1_pairs_df"
   ]
  },
  {
   "cell_type": "code",
   "execution_count": 7,
   "metadata": {},
   "outputs": [
    {
     "ename": "NameError",
     "evalue": "name 'Tconv_df1' is not defined",
     "output_type": "error",
     "traceback": [
      "\u001b[1;31m---------------------------------------------------------------------------\u001b[0m",
      "\u001b[1;31mNameError\u001b[0m                                 Traceback (most recent call last)",
      "Cell \u001b[1;32mIn[7], line 1\u001b[0m\n\u001b[1;32m----> 1\u001b[0m Tconv_df\u001b[38;5;241m=\u001b[39mpd\u001b[38;5;241m.\u001b[39mconcat((\u001b[43mTconv_df1\u001b[49m,Tconv_df2,Tconv_df3))\n\u001b[0;32m      2\u001b[0m Treg_df\u001b[38;5;241m=\u001b[39mpd\u001b[38;5;241m.\u001b[39mconcat((Treg_df1,Treg_df2,Treg_df3))\n",
      "\u001b[1;31mNameError\u001b[0m: name 'Tconv_df1' is not defined"
     ]
    }
   ],
   "source": [
    "Tconv_df=pd.concat((Tconv_df1,Tconv_df2,Tconv_df3))\n",
    "Treg_df=pd.concat((Treg_df1,Treg_df2,Treg_df3))"
   ]
  },
  {
   "cell_type": "code",
   "execution_count": null,
   "metadata": {},
   "outputs": [
    {
     "data": {
      "text/plain": [
       "<matplotlib.legend.Legend at 0x1b0220e0220>"
      ]
     },
     "execution_count": 18,
     "metadata": {},
     "output_type": "execute_result"
    },
    {
     "data": {
      "image/png": "[encoded data removed]",
      "text/plain": [
       "<Figure size 1000x1000 with 1 Axes>"
      ]
     },
     "metadata": {},
     "output_type": "display_data"
    }
   ],
   "source": [
    "bins=np.arange(0,10,0.5)\n",
    "plt.hist(Tconv_lps1_df['Intensity_Mean_Ki67'],bins=bins,alpha=0.5,label='LPS1',density=True)\n",
    "plt.hist(Tconv_pbs1_df['Intensity_Mean_Ki67'],bins=bins,alpha=0.5,label='PBS1',density=True)\n",
    "plt.hist(Tconv_lps2_df['Intensity_Mean_Ki67'],bins=bins,alpha=0.5,label='LPS2',density=True)\n",
    "plt.hist(Tconv_pbs2_df['Intensity_Mean_Ki67'],bins=bins,alpha=0.5,label='PBS2',density=True)\n",
    "plt.xlabel('Ki67 Mean')\n",
    "plt.ylabel('Counts')\n",
    "plt.yscale('log')\n",
    "plt.xlim(0,10)\n",
    "plt.legend()"
   ]
  },
  {
   "cell_type": "code",
   "execution_count": null,
   "metadata": {},
   "outputs": [
    {
     "data": {
      "text/plain": [
       "<matplotlib.legend.Legend at 0x1b020bab610>"
      ]
     },
     "execution_count": 8,
     "metadata": {},
     "output_type": "execute_result"
    },
    {
     "data": {
      "image/png": "[encoded data removed]",
      "text/plain": [
       "<Figure size 1000x1000 with 1 Axes>"
      ]
     },
     "metadata": {},
     "output_type": "display_data"
    }
   ],
   "source": [
    "eps=0.003\n",
    "bins=np.arange(-3,2,0.2)\n",
    "plt.hist(np.log10(Tconv_lps1_df['Intensity_Mean_PD1']+eps),bins=bins,alpha=0.5,label='LPS1',density=True)\n",
    "plt.hist(np.log10(Tconv_pbs1_df['Intensity_Mean_PD1']+eps),bins=bins,alpha=0.5,label='PBS1',density=True)\n",
    "plt.hist(np.log10(Tconv_lps2_df['Intensity_Mean_PD1']+eps),bins=bins,alpha=0.5,label='LPS2',density=True)\n",
    "plt.hist(np.log10(Tconv_pbs2_df['Intensity_Mean_PD1']+eps),bins=bins,alpha=0.5,label='PBS2',density=True)\n",
    "plt.xlabel('PD1 Mean')\n",
    "plt.ylabel('Counts')\n",
    "plt.legend()"
   ]
  },
  {
   "cell_type": "markdown",
   "metadata": {},
   "source": [
    "Gating PD1+ as PD1 mean > 10 ** -0.5 ~= 0.3"
   ]
  },
  {
   "cell_type": "code",
   "execution_count": 19,
   "metadata": {},
   "outputs": [
    {
     "name": "stdout",
     "output_type": "stream",
     "text": [
      "LPS1 0.13066037735849056\n",
      "PBS1 0.06007699398145638\n",
      "LPS2 0.04545180541322563\n",
      "PBS2 0.060189448756742536\n"
     ]
    }
   ],
   "source": [
    "for condition in Tconv_dict.keys():\n",
    "    df=Tconv_dict[condition]\n",
    "    print(condition, len(df[df['Intensity_Mean_PD1']>0.3])/len(df))"
   ]
  },
  {
   "cell_type": "code",
   "execution_count": null,
   "metadata": {},
   "outputs": [],
   "source": []
  }
 ],
 "metadata": {
  "kernelspec": {
   "display_name": "base",
   "language": "python",
   "name": "python3"
  },
  "language_info": {
   "codemirror_mode": {
    "name": "ipython",
    "version": 3
   },
   "file_extension": ".py",
   "mimetype": "text/x-python",
   "name": "python",
   "nbconvert_exporter": "python",
   "pygments_lexer": "ipython3",
   "version": "3.11.5"
  },
  "orig_nbformat": 4
 },
 "nbformat": 4,
 "nbformat_minor": 2
}
